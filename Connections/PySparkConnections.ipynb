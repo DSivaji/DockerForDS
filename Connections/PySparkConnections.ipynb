{
 "cells": [
  {
   "cell_type": "markdown",
   "metadata": {},
   "source": [
    "## Spark Connection Testing"
   ]
  },
  {
   "cell_type": "code",
   "execution_count": 1,
   "metadata": {
    "collapsed": true
   },
   "outputs": [],
   "source": [
    "import findspark\n",
    "findspark.init()"
   ]
  },
  {
   "cell_type": "code",
   "execution_count": 2,
   "metadata": {},
   "outputs": [
    {
     "name": "stdout",
     "output_type": "stream",
     "text": [
      "spark.executor.cores:  None\n",
      "spark.executor.memory:  None\n",
      "spark.driver.memory:  None\n",
      "spark.local.dir:  None\n"
     ]
    }
   ],
   "source": [
    "# Create a SparkContext with default configuration\n",
    "\n",
    "from pyspark import SparkContext, SparkConf\n",
    "from pyspark.sql import SQLContext\n",
    "conf = SparkConf() # Current SparkContext configuration\n",
    "print('spark.executor.cores: ', conf.get('spark.executor.cores'))\n",
    "print('spark.executor.memory: ', conf.get('spark.executor.memory'))\n",
    "print('spark.driver.memory: ' , conf.get('spark.driver.memory'))\n",
    "print('spark.local.dir: ' , conf.get('spark.local.dir'))\n",
    "\n",
    "sc = SparkContext('local') # if it is local\n",
    "sql_sc = SQLContext(sc)"
   ]
  },
  {
   "cell_type": "code",
   "execution_count": 3,
   "metadata": {},
   "outputs": [
    {
     "name": "stdout",
     "output_type": "stream",
     "text": [
      "./PySparkConnections.ipynb  ./ReadCSVFile.csv\r\n",
      "\r\n",
      "./spark-warehouse:\r\n"
     ]
    }
   ],
   "source": [
    "# list all files in the currnet directory\n",
    "!ls ./*"
   ]
  },
  {
   "cell_type": "code",
   "execution_count": 4,
   "metadata": {},
   "outputs": [
    {
     "name": "stdout",
     "output_type": "stream",
     "text": [
      "CPU times: user 0 ns, sys: 0 ns, total: 0 ns\n",
      "Wall time: 2.34 s\n"
     ]
    }
   ],
   "source": [
    "%%time\n",
    "# Read a csv file\n",
    "df = sql_sc.read.csv(\"./ReadCSVFile.csv\",header=True);"
   ]
  },
  {
   "cell_type": "code",
   "execution_count": null,
   "metadata": {},
   "outputs": [],
   "source": [
    "print(df.head(2))\n",
    "print(df.show(2))\n",
    "print(df.printSchema())"
   ]
  },
  {
   "cell_type": "code",
   "execution_count": 6,
   "metadata": {},
   "outputs": [
    {
     "name": "stdout",
     "output_type": "stream",
     "text": [
      "spark.executor.cores:  4\n",
      "spark.executor.memory:  8g\n",
      "spark.driver.memory:  8g\n",
      "spark.local.dir:  /tmp\n"
     ]
    }
   ],
   "source": [
    "# Create a SparkContext with custom configuration\n",
    "conf = SparkConf() # Current SparkContext configuration\n",
    "conf.set('spark.executor.cores', 4)\n",
    "conf.set('spark.executor.memory', '8g')\n",
    "conf.set('spark.driver.memory', '8g')\n",
    "conf.set('spark.local.dir', '/tmp')\n",
    "\n",
    "print('spark.executor.cores: ', conf.get('spark.executor.cores'))\n",
    "print('spark.executor.memory: ', conf.get('spark.executor.memory'))\n",
    "print('spark.driver.memory: ' , conf.get('spark.driver.memory'))\n",
    "print('spark.local.dir: ' , conf.get('spark.local.dir'))"
   ]
  },
  {
   "cell_type": "code",
   "execution_count": 7,
   "metadata": {},
   "outputs": [
    {
     "name": "stdout",
     "output_type": "stream",
     "text": [
      "CPU times: user 0 ns, sys: 0 ns, total: 0 ns\n",
      "Wall time: 125 ms\n"
     ]
    }
   ],
   "source": [
    "%%time\n",
    "# Read a csv file\n",
    "df = sql_sc.read.csv(\"./ReadCSVFile.csv\",header=True);"
   ]
  }
 ],
 "metadata": {
  "kernelspec": {
   "display_name": "Python 3",
   "language": "python",
   "name": "python3"
  },
  "language_info": {
   "codemirror_mode": {
    "name": "ipython",
    "version": 3
   },
   "file_extension": ".py",
   "mimetype": "text/x-python",
   "name": "python",
   "nbconvert_exporter": "python",
   "pygments_lexer": "ipython3",
   "version": "3.6.2"
  }
 },
 "nbformat": 4,
 "nbformat_minor": 2
}
